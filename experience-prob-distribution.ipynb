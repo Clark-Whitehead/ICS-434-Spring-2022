{
 "cells": [
  {
   "cell_type": "markdown",
   "id": "60abb2c9",
   "metadata": {},
   "source": [
    "# Clark Whitehead\n",
    "# Mahdi Spring 2022\n",
    "# ICS 434"
   ]
  },
  {
   "cell_type": "code",
   "execution_count": 45,
   "id": "30480d20",
   "metadata": {},
   "outputs": [],
   "source": [
    "import pandas as pd\n",
    "import matplotlib.pyplot as plt\n",
    "import numpy as np"
   ]
  },
  {
   "cell_type": "markdown",
   "id": "713c60c7",
   "metadata": {},
   "source": [
    "##### Q.1 \n",
    "\n",
    "Consider the loaded die with the following probabilities:\n",
    "```\n",
    "    p(1) = 0.3/6\n",
    "    p(2) = 0.7/6\n",
    "    p(3) =   2/6\n",
    "    p(4) = 0.5/6\n",
    "    p(5) = 0.2/6\n",
    "    p(6) = 2.3/6\n",
    "```\n"
   ]
  },
  {
   "cell_type": "code",
   "execution_count": 1,
   "id": "9e4797e0",
   "metadata": {},
   "outputs": [],
   "source": [
    "data = {1: .3/6,\n",
    "        2: .7/6,\n",
    "        3: 2/6,\n",
    "        4: .5/6,\n",
    "        5: .2/6,\n",
    "        6: 2.3/6}"
   ]
  },
  {
   "cell_type": "code",
   "execution_count": 25,
   "id": "14618a20",
   "metadata": {},
   "outputs": [
    {
     "data": {
      "text/plain": [
       "1    0.050000\n",
       "2    0.116667\n",
       "3    0.333333\n",
       "4    0.083333\n",
       "5    0.033333\n",
       "6    0.383333\n",
       "dtype: float64"
      ]
     },
     "execution_count": 25,
     "metadata": {},
     "output_type": "execute_result"
    }
   ],
   "source": [
    "df = pd.Series(data)\n",
    "df"
   ]
  },
  {
   "cell_type": "code",
   "execution_count": 28,
   "id": "180234f9",
   "metadata": {},
   "outputs": [],
   "source": [
    "assert df.sum(axis=0) == 1"
   ]
  },
  {
   "cell_type": "markdown",
   "id": "dbe12bdf",
   "metadata": {},
   "source": [
    "##### Q.2 \n",
    "* Plot the probability distribution above\n",
    "  * Select the most appropriate visualization to do so."
   ]
  },
  {
   "cell_type": "code",
   "execution_count": 41,
   "id": "f519fe80",
   "metadata": {},
   "outputs": [
    {
     "data": {
      "text/plain": [
       "Text(0, 0.5, 'probability')"
      ]
     },
     "execution_count": 41,
     "metadata": {},
     "output_type": "execute_result"
    },
    {
     "data": {
      "image/png": "[encoded data removed]",
      "text/plain": [
       "<Figure size 432x288 with 1 Axes>"
      ]
     },
     "metadata": {
      "needs_background": "light"
     },
     "output_type": "display_data"
    }
   ],
   "source": [
    "# Add your plot code here\n",
    "plt.bar(list(range(1,7)), [.3/6,.7/6,2/6,.5/6,.2/6,2.3/6])\n",
    "plt.xlabel(\"Die face obtained\")\n",
    "plt.ylabel(\"probability\")"
   ]
  },
  {
   "cell_type": "markdown",
   "id": "2bebd2a7",
   "metadata": {},
   "source": [
    "##### Q.3 \n",
    "* Based only on the plot above, can you predict the mean value of a random variable consisting of values obtaining from rolling a die  that follows the probability distribution given above? Explain your reasoning."
   ]
  },
  {
   "cell_type": "markdown",
   "id": "ab599445",
   "metadata": {},
   "source": [
    "# Write you answer here\n",
    "\n",
    "### If I could only guess based on looking at the graph, I'd say the mean value something between 3 and 6. Maybe 4.5\n",
    "\n",
    "### However, when calculated we get 1*(.3/6)+2*(.7/6)+3*(2/6)+4*(.5/6)+5*(.2/6)+6*(2.3/6) = 4.083334"
   ]
  },
  {
   "cell_type": "markdown",
   "id": "007f6984",
   "metadata": {},
   "source": [
    "##### Q.4\n",
    "* Sample 5000 die rolls such that the probabilities of obtaining the values 1 through 6 are distributed according probabilities above. Use these samples to estimate the mean of the random variable. \n"
   ]
  },
  {
   "cell_type": "code",
   "execution_count": 70,
   "id": "5bc38d79",
   "metadata": {},
   "outputs": [
    {
     "data": {
      "text/plain": [
       "4.0666"
      ]
     },
     "execution_count": 70,
     "metadata": {},
     "output_type": "execute_result"
    }
   ],
   "source": [
    "# Write you code here\n",
    "samples = np.random.choice(range(1,7), 5000, p=[.3/6,.7/6,2/6,.5/6,.2/6,2.3/6])\n",
    "samples.mean()"
   ]
  },
  {
   "cell_type": "markdown",
   "id": "78152616",
   "metadata": {},
   "source": [
    "##### Q.5 \n",
    "\n",
    "* Does the mean match your prediction in Q.3 above? Explain your answer.\n"
   ]
  },
  {
   "cell_type": "markdown",
   "id": "2c556b6d",
   "metadata": {},
   "source": [
    "# Write you answer here\n",
    "\n",
    "### It almost matches my guess, and it almost matches my calculation. If I did a million samples it would almost exactly match my calculation."
   ]
  }
 ],
 "metadata": {
  "kernelspec": {
   "display_name": "Python 3",
   "language": "python",
   "name": "python3"
  },
  "language_info": {
   "codemirror_mode": {
    "name": "ipython",
    "version": 3
   },
   "file_extension": ".py",
   "mimetype": "text/x-python",
   "name": "python",
   "nbconvert_exporter": "python",
   "pygments_lexer": "ipython3",
   "version": "3.8.8"
  }
 },
 "nbformat": 4,
 "nbformat_minor": 5
}
